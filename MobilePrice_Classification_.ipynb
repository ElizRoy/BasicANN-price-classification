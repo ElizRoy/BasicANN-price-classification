{
  "nbformat": 4,
  "nbformat_minor": 0,
  "metadata": {
    "colab": {
      "name": "MobilePrice Classification .ipynb",
      "provenance": [],
      "collapsed_sections": [],
      "toc_visible": true,
      "include_colab_link": true
    },
    "kernelspec": {
      "name": "python3",
      "display_name": "Python 3"
    }
  },
  "cells": [
    {
      "cell_type": "markdown",
      "metadata": {
        "id": "view-in-github",
        "colab_type": "text"
      },
      "source": [
        "<a href=\"https://colab.research.google.com/github/Resh-Eli/BasicANN-price-classification/blob/master/MobilePrice_Classification_.ipynb\" target=\"_parent\"><img src=\"https://colab.research.google.com/assets/colab-badge.svg\" alt=\"Open In Colab\"/></a>"
      ]
    },
    {
      "cell_type": "markdown",
      "metadata": {
        "id": "lJV9FWaeLy5R",
        "colab_type": "text"
      },
      "source": [
        "#Mobile Price Classification\n"
      ]
    },
    {
      "cell_type": "markdown",
      "metadata": {
        "id": "wfCyU98wDn9Y",
        "colab_type": "text"
      },
      "source": [
        "This code works on a dataset of mobile phones where the different features are stated in columns. \n",
        "The objective of this project is to predict the mobile price range that a mobile phone with a set of features will fall in and hence study the impact of different features in predicting mobile price ranges. \n",
        "The dataset consists of 20 features and the price ranges are divided into 4 classes: 0 ,1 ,2 and 3.\n",
        "\n",
        "We have used a Artificial Neural network (ANN) to create the prediction model. \n",
        "The following machine learning steps are followed in the code:\n",
        "Preparation and load data-  data is the key for the working of neural network and we need to process it before feeding to the neural network. In this step, we will also visualize data which will help us to gain insight into the data.\n",
        "\n",
        "Model definition- Now we need a neural network model. This means we need to specify the number of hidden layers in the neural network and their size, the input and output size.\n",
        "\n",
        "Loss and optimizer- Now we define the loss function according to our task. We also need to specify the optimizer to use with learning rate and other hyperparameters of the optimizer.\n",
        "\n",
        "Fitting the  model- This is the training step of the neural network. Here we need to define the number of epochs for which we need to train the neural network.\n",
        "\n",
        "After fitting model, we can test it on test data to check whether the case of overfitting. We can save the weights of the model and use it later whenever required.\n"
      ]
    },
    {
      "cell_type": "markdown",
      "metadata": {
        "id": "DOMvNv78ria9",
        "colab_type": "text"
      },
      "source": [
        "**Importing the necessary packages and reading in the mobile dataset.**\n",
        "\n",
        "*   List item\n",
        "*   List item\n",
        "\n"
      ]
    },
    {
      "cell_type": "code",
      "metadata": {
        "id": "J8rCNtZMO4fF",
        "colab_type": "code",
        "outputId": "110af270-dee0-467a-dc05-4a8285b4a20a",
        "colab": {
          "base_uri": "https://localhost:8080/",
          "height": 414
        }
      },
      "source": [
        "import numpy as np\n",
        "import matplotlib.pyplot as plt\n",
        "import pandas as pd\n",
        "import seaborn as sns\n",
        "#dataset import\n",
        "dataset = pd.read_csv('train.csv')\n",
        "dataset.head(11)"
      ],
      "execution_count": 0,
      "outputs": [
        {
          "output_type": "execute_result",
          "data": {
            "text/html": [
              "<div>\n",
              "<style scoped>\n",
              "    .dataframe tbody tr th:only-of-type {\n",
              "        vertical-align: middle;\n",
              "    }\n",
              "\n",
              "    .dataframe tbody tr th {\n",
              "        vertical-align: top;\n",
              "    }\n",
              "\n",
              "    .dataframe thead th {\n",
              "        text-align: right;\n",
              "    }\n",
              "</style>\n",
              "<table border=\"1\" class=\"dataframe\">\n",
              "  <thead>\n",
              "    <tr style=\"text-align: right;\">\n",
              "      <th></th>\n",
              "      <th>battery_power</th>\n",
              "      <th>blue</th>\n",
              "      <th>clock_speed</th>\n",
              "      <th>dual_sim</th>\n",
              "      <th>fc</th>\n",
              "      <th>four_g</th>\n",
              "      <th>int_memory</th>\n",
              "      <th>m_dep</th>\n",
              "      <th>mobile_wt</th>\n",
              "      <th>n_cores</th>\n",
              "      <th>pc</th>\n",
              "      <th>px_height</th>\n",
              "      <th>px_width</th>\n",
              "      <th>ram</th>\n",
              "      <th>sc_h</th>\n",
              "      <th>sc_w</th>\n",
              "      <th>talk_time</th>\n",
              "      <th>three_g</th>\n",
              "      <th>touch_screen</th>\n",
              "      <th>wifi</th>\n",
              "      <th>price_range</th>\n",
              "    </tr>\n",
              "  </thead>\n",
              "  <tbody>\n",
              "    <tr>\n",
              "      <th>0</th>\n",
              "      <td>842</td>\n",
              "      <td>0</td>\n",
              "      <td>2.2</td>\n",
              "      <td>0</td>\n",
              "      <td>1</td>\n",
              "      <td>0</td>\n",
              "      <td>7</td>\n",
              "      <td>0.6</td>\n",
              "      <td>188</td>\n",
              "      <td>2</td>\n",
              "      <td>2</td>\n",
              "      <td>20</td>\n",
              "      <td>756</td>\n",
              "      <td>2549</td>\n",
              "      <td>9</td>\n",
              "      <td>7</td>\n",
              "      <td>19</td>\n",
              "      <td>0</td>\n",
              "      <td>0</td>\n",
              "      <td>1</td>\n",
              "      <td>1</td>\n",
              "    </tr>\n",
              "    <tr>\n",
              "      <th>1</th>\n",
              "      <td>1021</td>\n",
              "      <td>1</td>\n",
              "      <td>0.5</td>\n",
              "      <td>1</td>\n",
              "      <td>0</td>\n",
              "      <td>1</td>\n",
              "      <td>53</td>\n",
              "      <td>0.7</td>\n",
              "      <td>136</td>\n",
              "      <td>3</td>\n",
              "      <td>6</td>\n",
              "      <td>905</td>\n",
              "      <td>1988</td>\n",
              "      <td>2631</td>\n",
              "      <td>17</td>\n",
              "      <td>3</td>\n",
              "      <td>7</td>\n",
              "      <td>1</td>\n",
              "      <td>1</td>\n",
              "      <td>0</td>\n",
              "      <td>2</td>\n",
              "    </tr>\n",
              "    <tr>\n",
              "      <th>2</th>\n",
              "      <td>563</td>\n",
              "      <td>1</td>\n",
              "      <td>0.5</td>\n",
              "      <td>1</td>\n",
              "      <td>2</td>\n",
              "      <td>1</td>\n",
              "      <td>41</td>\n",
              "      <td>0.9</td>\n",
              "      <td>145</td>\n",
              "      <td>5</td>\n",
              "      <td>6</td>\n",
              "      <td>1263</td>\n",
              "      <td>1716</td>\n",
              "      <td>2603</td>\n",
              "      <td>11</td>\n",
              "      <td>2</td>\n",
              "      <td>9</td>\n",
              "      <td>1</td>\n",
              "      <td>1</td>\n",
              "      <td>0</td>\n",
              "      <td>2</td>\n",
              "    </tr>\n",
              "    <tr>\n",
              "      <th>3</th>\n",
              "      <td>615</td>\n",
              "      <td>1</td>\n",
              "      <td>2.5</td>\n",
              "      <td>0</td>\n",
              "      <td>0</td>\n",
              "      <td>0</td>\n",
              "      <td>10</td>\n",
              "      <td>0.8</td>\n",
              "      <td>131</td>\n",
              "      <td>6</td>\n",
              "      <td>9</td>\n",
              "      <td>1216</td>\n",
              "      <td>1786</td>\n",
              "      <td>2769</td>\n",
              "      <td>16</td>\n",
              "      <td>8</td>\n",
              "      <td>11</td>\n",
              "      <td>1</td>\n",
              "      <td>0</td>\n",
              "      <td>0</td>\n",
              "      <td>2</td>\n",
              "    </tr>\n",
              "    <tr>\n",
              "      <th>4</th>\n",
              "      <td>1821</td>\n",
              "      <td>1</td>\n",
              "      <td>1.2</td>\n",
              "      <td>0</td>\n",
              "      <td>13</td>\n",
              "      <td>1</td>\n",
              "      <td>44</td>\n",
              "      <td>0.6</td>\n",
              "      <td>141</td>\n",
              "      <td>2</td>\n",
              "      <td>14</td>\n",
              "      <td>1208</td>\n",
              "      <td>1212</td>\n",
              "      <td>1411</td>\n",
              "      <td>8</td>\n",
              "      <td>2</td>\n",
              "      <td>15</td>\n",
              "      <td>1</td>\n",
              "      <td>1</td>\n",
              "      <td>0</td>\n",
              "      <td>1</td>\n",
              "    </tr>\n",
              "    <tr>\n",
              "      <th>5</th>\n",
              "      <td>1859</td>\n",
              "      <td>0</td>\n",
              "      <td>0.5</td>\n",
              "      <td>1</td>\n",
              "      <td>3</td>\n",
              "      <td>0</td>\n",
              "      <td>22</td>\n",
              "      <td>0.7</td>\n",
              "      <td>164</td>\n",
              "      <td>1</td>\n",
              "      <td>7</td>\n",
              "      <td>1004</td>\n",
              "      <td>1654</td>\n",
              "      <td>1067</td>\n",
              "      <td>17</td>\n",
              "      <td>1</td>\n",
              "      <td>10</td>\n",
              "      <td>1</td>\n",
              "      <td>0</td>\n",
              "      <td>0</td>\n",
              "      <td>1</td>\n",
              "    </tr>\n",
              "    <tr>\n",
              "      <th>6</th>\n",
              "      <td>1821</td>\n",
              "      <td>0</td>\n",
              "      <td>1.7</td>\n",
              "      <td>0</td>\n",
              "      <td>4</td>\n",
              "      <td>1</td>\n",
              "      <td>10</td>\n",
              "      <td>0.8</td>\n",
              "      <td>139</td>\n",
              "      <td>8</td>\n",
              "      <td>10</td>\n",
              "      <td>381</td>\n",
              "      <td>1018</td>\n",
              "      <td>3220</td>\n",
              "      <td>13</td>\n",
              "      <td>8</td>\n",
              "      <td>18</td>\n",
              "      <td>1</td>\n",
              "      <td>0</td>\n",
              "      <td>1</td>\n",
              "      <td>3</td>\n",
              "    </tr>\n",
              "    <tr>\n",
              "      <th>7</th>\n",
              "      <td>1954</td>\n",
              "      <td>0</td>\n",
              "      <td>0.5</td>\n",
              "      <td>1</td>\n",
              "      <td>0</td>\n",
              "      <td>0</td>\n",
              "      <td>24</td>\n",
              "      <td>0.8</td>\n",
              "      <td>187</td>\n",
              "      <td>4</td>\n",
              "      <td>0</td>\n",
              "      <td>512</td>\n",
              "      <td>1149</td>\n",
              "      <td>700</td>\n",
              "      <td>16</td>\n",
              "      <td>3</td>\n",
              "      <td>5</td>\n",
              "      <td>1</td>\n",
              "      <td>1</td>\n",
              "      <td>1</td>\n",
              "      <td>0</td>\n",
              "    </tr>\n",
              "    <tr>\n",
              "      <th>8</th>\n",
              "      <td>1445</td>\n",
              "      <td>1</td>\n",
              "      <td>0.5</td>\n",
              "      <td>0</td>\n",
              "      <td>0</td>\n",
              "      <td>0</td>\n",
              "      <td>53</td>\n",
              "      <td>0.7</td>\n",
              "      <td>174</td>\n",
              "      <td>7</td>\n",
              "      <td>14</td>\n",
              "      <td>386</td>\n",
              "      <td>836</td>\n",
              "      <td>1099</td>\n",
              "      <td>17</td>\n",
              "      <td>1</td>\n",
              "      <td>20</td>\n",
              "      <td>1</td>\n",
              "      <td>0</td>\n",
              "      <td>0</td>\n",
              "      <td>0</td>\n",
              "    </tr>\n",
              "    <tr>\n",
              "      <th>9</th>\n",
              "      <td>509</td>\n",
              "      <td>1</td>\n",
              "      <td>0.6</td>\n",
              "      <td>1</td>\n",
              "      <td>2</td>\n",
              "      <td>1</td>\n",
              "      <td>9</td>\n",
              "      <td>0.1</td>\n",
              "      <td>93</td>\n",
              "      <td>5</td>\n",
              "      <td>15</td>\n",
              "      <td>1137</td>\n",
              "      <td>1224</td>\n",
              "      <td>513</td>\n",
              "      <td>19</td>\n",
              "      <td>10</td>\n",
              "      <td>12</td>\n",
              "      <td>1</td>\n",
              "      <td>0</td>\n",
              "      <td>0</td>\n",
              "      <td>0</td>\n",
              "    </tr>\n",
              "    <tr>\n",
              "      <th>10</th>\n",
              "      <td>769</td>\n",
              "      <td>1</td>\n",
              "      <td>2.9</td>\n",
              "      <td>1</td>\n",
              "      <td>0</td>\n",
              "      <td>0</td>\n",
              "      <td>9</td>\n",
              "      <td>0.1</td>\n",
              "      <td>182</td>\n",
              "      <td>5</td>\n",
              "      <td>1</td>\n",
              "      <td>248</td>\n",
              "      <td>874</td>\n",
              "      <td>3946</td>\n",
              "      <td>5</td>\n",
              "      <td>2</td>\n",
              "      <td>7</td>\n",
              "      <td>0</td>\n",
              "      <td>0</td>\n",
              "      <td>0</td>\n",
              "      <td>3</td>\n",
              "    </tr>\n",
              "  </tbody>\n",
              "</table>\n",
              "</div>"
            ],
            "text/plain": [
              "    battery_power  blue  clock_speed  ...  touch_screen  wifi  price_range\n",
              "0             842     0          2.2  ...             0     1            1\n",
              "1            1021     1          0.5  ...             1     0            2\n",
              "2             563     1          0.5  ...             1     0            2\n",
              "3             615     1          2.5  ...             0     0            2\n",
              "4            1821     1          1.2  ...             1     0            1\n",
              "5            1859     0          0.5  ...             0     0            1\n",
              "6            1821     0          1.7  ...             0     1            3\n",
              "7            1954     0          0.5  ...             1     1            0\n",
              "8            1445     1          0.5  ...             0     0            0\n",
              "9             509     1          0.6  ...             0     0            0\n",
              "10            769     1          2.9  ...             0     0            3\n",
              "\n",
              "[11 rows x 21 columns]"
            ]
          },
          "metadata": {
            "tags": []
          },
          "execution_count": 2
        }
      ]
    },
    {
      "cell_type": "markdown",
      "metadata": {
        "id": "LPd2LQnC89H2",
        "colab_type": "text"
      },
      "source": [
        "**Explore the data with the following commands:**\n",
        " \n",
        " print and calculate the following summary statistics: min, max, mean, standard deviation, frequency and count of the data in dataset data.\n",
        " \n",
        "\n"
      ]
    },
    {
      "cell_type": "markdown",
      "metadata": {
        "id": "bWZ7e9YLFufD",
        "colab_type": "text"
      },
      "source": [
        "**Displaying the mobile phone features**"
      ]
    },
    {
      "cell_type": "markdown",
      "metadata": {
        "id": "toG5csP0R_Pj",
        "colab_type": "text"
      },
      "source": [
        ""
      ]
    },
    {
      "cell_type": "code",
      "metadata": {
        "id": "oKQIidNH85FZ",
        "colab_type": "code",
        "outputId": "dbcf482c-dac1-4ccd-9f13-7c9233441ba5",
        "colab": {
          "base_uri": "https://localhost:8080/",
          "height": 339
        }
      },
      "source": [
        "dataset = pd.read_csv('train.csv')\n",
        "\n",
        "#Statistics of the dataset\n",
        "print(\"Statistical description of the dataset\")\n",
        "dataset.describe()"
      ],
      "execution_count": 0,
      "outputs": [
        {
          "output_type": "stream",
          "text": [
            "Statistical description of the dataset\n"
          ],
          "name": "stdout"
        },
        {
          "output_type": "execute_result",
          "data": {
            "text/html": [
              "<div>\n",
              "<style scoped>\n",
              "    .dataframe tbody tr th:only-of-type {\n",
              "        vertical-align: middle;\n",
              "    }\n",
              "\n",
              "    .dataframe tbody tr th {\n",
              "        vertical-align: top;\n",
              "    }\n",
              "\n",
              "    .dataframe thead th {\n",
              "        text-align: right;\n",
              "    }\n",
              "</style>\n",
              "<table border=\"1\" class=\"dataframe\">\n",
              "  <thead>\n",
              "    <tr style=\"text-align: right;\">\n",
              "      <th></th>\n",
              "      <th>battery_power</th>\n",
              "      <th>blue</th>\n",
              "      <th>clock_speed</th>\n",
              "      <th>dual_sim</th>\n",
              "      <th>fc</th>\n",
              "      <th>four_g</th>\n",
              "      <th>int_memory</th>\n",
              "      <th>m_dep</th>\n",
              "      <th>mobile_wt</th>\n",
              "      <th>n_cores</th>\n",
              "      <th>pc</th>\n",
              "      <th>px_height</th>\n",
              "      <th>px_width</th>\n",
              "      <th>ram</th>\n",
              "      <th>sc_h</th>\n",
              "      <th>sc_w</th>\n",
              "      <th>talk_time</th>\n",
              "      <th>three_g</th>\n",
              "      <th>touch_screen</th>\n",
              "      <th>wifi</th>\n",
              "      <th>price_range</th>\n",
              "    </tr>\n",
              "  </thead>\n",
              "  <tbody>\n",
              "    <tr>\n",
              "      <th>count</th>\n",
              "      <td>2000.000000</td>\n",
              "      <td>2000.0000</td>\n",
              "      <td>2000.000000</td>\n",
              "      <td>2000.000000</td>\n",
              "      <td>2000.000000</td>\n",
              "      <td>2000.000000</td>\n",
              "      <td>2000.000000</td>\n",
              "      <td>2000.000000</td>\n",
              "      <td>2000.000000</td>\n",
              "      <td>2000.000000</td>\n",
              "      <td>2000.000000</td>\n",
              "      <td>2000.000000</td>\n",
              "      <td>2000.000000</td>\n",
              "      <td>2000.000000</td>\n",
              "      <td>2000.000000</td>\n",
              "      <td>2000.000000</td>\n",
              "      <td>2000.000000</td>\n",
              "      <td>2000.000000</td>\n",
              "      <td>2000.000000</td>\n",
              "      <td>2000.000000</td>\n",
              "      <td>2000.000000</td>\n",
              "    </tr>\n",
              "    <tr>\n",
              "      <th>mean</th>\n",
              "      <td>1238.518500</td>\n",
              "      <td>0.4950</td>\n",
              "      <td>1.522250</td>\n",
              "      <td>0.509500</td>\n",
              "      <td>4.309500</td>\n",
              "      <td>0.521500</td>\n",
              "      <td>32.046500</td>\n",
              "      <td>0.501750</td>\n",
              "      <td>140.249000</td>\n",
              "      <td>4.520500</td>\n",
              "      <td>9.916500</td>\n",
              "      <td>645.108000</td>\n",
              "      <td>1251.515500</td>\n",
              "      <td>2124.213000</td>\n",
              "      <td>12.306500</td>\n",
              "      <td>5.767000</td>\n",
              "      <td>11.011000</td>\n",
              "      <td>0.761500</td>\n",
              "      <td>0.503000</td>\n",
              "      <td>0.507000</td>\n",
              "      <td>1.500000</td>\n",
              "    </tr>\n",
              "    <tr>\n",
              "      <th>std</th>\n",
              "      <td>439.418206</td>\n",
              "      <td>0.5001</td>\n",
              "      <td>0.816004</td>\n",
              "      <td>0.500035</td>\n",
              "      <td>4.341444</td>\n",
              "      <td>0.499662</td>\n",
              "      <td>18.145715</td>\n",
              "      <td>0.288416</td>\n",
              "      <td>35.399655</td>\n",
              "      <td>2.287837</td>\n",
              "      <td>6.064315</td>\n",
              "      <td>443.780811</td>\n",
              "      <td>432.199447</td>\n",
              "      <td>1084.732044</td>\n",
              "      <td>4.213245</td>\n",
              "      <td>4.356398</td>\n",
              "      <td>5.463955</td>\n",
              "      <td>0.426273</td>\n",
              "      <td>0.500116</td>\n",
              "      <td>0.500076</td>\n",
              "      <td>1.118314</td>\n",
              "    </tr>\n",
              "    <tr>\n",
              "      <th>min</th>\n",
              "      <td>501.000000</td>\n",
              "      <td>0.0000</td>\n",
              "      <td>0.500000</td>\n",
              "      <td>0.000000</td>\n",
              "      <td>0.000000</td>\n",
              "      <td>0.000000</td>\n",
              "      <td>2.000000</td>\n",
              "      <td>0.100000</td>\n",
              "      <td>80.000000</td>\n",
              "      <td>1.000000</td>\n",
              "      <td>0.000000</td>\n",
              "      <td>0.000000</td>\n",
              "      <td>500.000000</td>\n",
              "      <td>256.000000</td>\n",
              "      <td>5.000000</td>\n",
              "      <td>0.000000</td>\n",
              "      <td>2.000000</td>\n",
              "      <td>0.000000</td>\n",
              "      <td>0.000000</td>\n",
              "      <td>0.000000</td>\n",
              "      <td>0.000000</td>\n",
              "    </tr>\n",
              "    <tr>\n",
              "      <th>25%</th>\n",
              "      <td>851.750000</td>\n",
              "      <td>0.0000</td>\n",
              "      <td>0.700000</td>\n",
              "      <td>0.000000</td>\n",
              "      <td>1.000000</td>\n",
              "      <td>0.000000</td>\n",
              "      <td>16.000000</td>\n",
              "      <td>0.200000</td>\n",
              "      <td>109.000000</td>\n",
              "      <td>3.000000</td>\n",
              "      <td>5.000000</td>\n",
              "      <td>282.750000</td>\n",
              "      <td>874.750000</td>\n",
              "      <td>1207.500000</td>\n",
              "      <td>9.000000</td>\n",
              "      <td>2.000000</td>\n",
              "      <td>6.000000</td>\n",
              "      <td>1.000000</td>\n",
              "      <td>0.000000</td>\n",
              "      <td>0.000000</td>\n",
              "      <td>0.750000</td>\n",
              "    </tr>\n",
              "    <tr>\n",
              "      <th>50%</th>\n",
              "      <td>1226.000000</td>\n",
              "      <td>0.0000</td>\n",
              "      <td>1.500000</td>\n",
              "      <td>1.000000</td>\n",
              "      <td>3.000000</td>\n",
              "      <td>1.000000</td>\n",
              "      <td>32.000000</td>\n",
              "      <td>0.500000</td>\n",
              "      <td>141.000000</td>\n",
              "      <td>4.000000</td>\n",
              "      <td>10.000000</td>\n",
              "      <td>564.000000</td>\n",
              "      <td>1247.000000</td>\n",
              "      <td>2146.500000</td>\n",
              "      <td>12.000000</td>\n",
              "      <td>5.000000</td>\n",
              "      <td>11.000000</td>\n",
              "      <td>1.000000</td>\n",
              "      <td>1.000000</td>\n",
              "      <td>1.000000</td>\n",
              "      <td>1.500000</td>\n",
              "    </tr>\n",
              "    <tr>\n",
              "      <th>75%</th>\n",
              "      <td>1615.250000</td>\n",
              "      <td>1.0000</td>\n",
              "      <td>2.200000</td>\n",
              "      <td>1.000000</td>\n",
              "      <td>7.000000</td>\n",
              "      <td>1.000000</td>\n",
              "      <td>48.000000</td>\n",
              "      <td>0.800000</td>\n",
              "      <td>170.000000</td>\n",
              "      <td>7.000000</td>\n",
              "      <td>15.000000</td>\n",
              "      <td>947.250000</td>\n",
              "      <td>1633.000000</td>\n",
              "      <td>3064.500000</td>\n",
              "      <td>16.000000</td>\n",
              "      <td>9.000000</td>\n",
              "      <td>16.000000</td>\n",
              "      <td>1.000000</td>\n",
              "      <td>1.000000</td>\n",
              "      <td>1.000000</td>\n",
              "      <td>2.250000</td>\n",
              "    </tr>\n",
              "    <tr>\n",
              "      <th>max</th>\n",
              "      <td>1998.000000</td>\n",
              "      <td>1.0000</td>\n",
              "      <td>3.000000</td>\n",
              "      <td>1.000000</td>\n",
              "      <td>19.000000</td>\n",
              "      <td>1.000000</td>\n",
              "      <td>64.000000</td>\n",
              "      <td>1.000000</td>\n",
              "      <td>200.000000</td>\n",
              "      <td>8.000000</td>\n",
              "      <td>20.000000</td>\n",
              "      <td>1960.000000</td>\n",
              "      <td>1998.000000</td>\n",
              "      <td>3998.000000</td>\n",
              "      <td>19.000000</td>\n",
              "      <td>18.000000</td>\n",
              "      <td>20.000000</td>\n",
              "      <td>1.000000</td>\n",
              "      <td>1.000000</td>\n",
              "      <td>1.000000</td>\n",
              "      <td>3.000000</td>\n",
              "    </tr>\n",
              "  </tbody>\n",
              "</table>\n",
              "</div>"
            ],
            "text/plain": [
              "       battery_power       blue  ...         wifi  price_range\n",
              "count    2000.000000  2000.0000  ...  2000.000000  2000.000000\n",
              "mean     1238.518500     0.4950  ...     0.507000     1.500000\n",
              "std       439.418206     0.5001  ...     0.500076     1.118314\n",
              "min       501.000000     0.0000  ...     0.000000     0.000000\n",
              "25%       851.750000     0.0000  ...     0.000000     0.750000\n",
              "50%      1226.000000     0.0000  ...     1.000000     1.500000\n",
              "75%      1615.250000     1.0000  ...     1.000000     2.250000\n",
              "max      1998.000000     1.0000  ...     1.000000     3.000000\n",
              "\n",
              "[8 rows x 21 columns]"
            ]
          },
          "metadata": {
            "tags": []
          },
          "execution_count": 3
        }
      ]
    },
    {
      "cell_type": "code",
      "metadata": {
        "id": "neSrNv37Rd3L",
        "colab_type": "code",
        "outputId": "b5cb2567-6db8-4457-8e47-534c2f7791c0",
        "colab": {
          "base_uri": "https://localhost:8080/",
          "height": 459
        }
      },
      "source": [
        "#name of columns\n",
        "dataset.columns\n",
        "\n",
        "#Data Types of the different columns or features\n",
        "dataset.info()"
      ],
      "execution_count": 0,
      "outputs": [
        {
          "output_type": "stream",
          "text": [
            "<class 'pandas.core.frame.DataFrame'>\n",
            "RangeIndex: 2000 entries, 0 to 1999\n",
            "Data columns (total 21 columns):\n",
            "battery_power    2000 non-null int64\n",
            "blue             2000 non-null int64\n",
            "clock_speed      2000 non-null float64\n",
            "dual_sim         2000 non-null int64\n",
            "fc               2000 non-null int64\n",
            "four_g           2000 non-null int64\n",
            "int_memory       2000 non-null int64\n",
            "m_dep            2000 non-null float64\n",
            "mobile_wt        2000 non-null int64\n",
            "n_cores          2000 non-null int64\n",
            "pc               2000 non-null int64\n",
            "px_height        2000 non-null int64\n",
            "px_width         2000 non-null int64\n",
            "ram              2000 non-null int64\n",
            "sc_h             2000 non-null int64\n",
            "sc_w             2000 non-null int64\n",
            "talk_time        2000 non-null int64\n",
            "three_g          2000 non-null int64\n",
            "touch_screen     2000 non-null int64\n",
            "wifi             2000 non-null int64\n",
            "price_range      2000 non-null int64\n",
            "dtypes: float64(2), int64(19)\n",
            "memory usage: 328.2 KB\n"
          ],
          "name": "stdout"
        }
      ]
    },
    {
      "cell_type": "code",
      "metadata": {
        "id": "igz7IxvBq1tz",
        "colab_type": "code",
        "outputId": "575f6088-c975-4e95-c3e3-144003dafec8",
        "colab": {
          "base_uri": "https://localhost:8080/",
          "height": 335
        }
      },
      "source": [
        "#Exploring the number of mobile phones in each price range\n",
        "print(\"Uniform Distribution of number of mobile phones in the dataset between different price ranges\", '\\n')\n",
        "print(sns.countplot(dataset['price_range'],label=\"Count\")"
      ],
      "execution_count": 0,
      "outputs": [
        {
          "output_type": "stream",
          "text": [
            "Distribution of mobile phones in the dataset between different price ranges \n",
            "\n",
            "AxesSubplot(0.125,0.125;0.775x0.755)\n"
          ],
          "name": "stdout"
        },
        {
          "output_type": "display_data",
          "data": {
            "image/png": "[encoded data removed]",
            "text/plain": [
              "<Figure size 432x288 with 1 Axes>"
            ]
          },
          "metadata": {
            "tags": []
          }
        }
      ]
    },
    {
      "cell_type": "code",
      "metadata": {
        "id": "Rt9_-Ogbf0ec",
        "colab_type": "code",
        "outputId": "ec3555cb-772e-4cd4-f556-a05e579cb57a",
        "colab": {
          "base_uri": "https://localhost:8080/",
          "height": 465
        }
      },
      "source": [
        "#Correlation matrix of the different features of mobile phones\n",
        "corr= dataset.corr()\n",
        "fig = plt.figure(figsize=(7, 5.5))\n",
        "mask = np.zeros_like(corr, dtype=np.bool) # create mask to cover the upper triangle\n",
        "mask[np.triu_indices_from(mask)] = True\n",
        "sns.heatmap(corr, annot=False, mask=mask, vmax=0.5, linewidths=0.2)\n",
        "fig.suptitle('Feature Correlation Matrix', fontsize=14)"
      ],
      "execution_count": 0,
      "outputs": [
        {
          "output_type": "execute_result",
          "data": {
            "text/plain": [
              "Text(0.5, 0.98, 'Feature Correlation Matrix')"
            ]
          },
          "metadata": {
            "tags": []
          },
          "execution_count": 17
        },
        {
          "output_type": "display_data",
          "data": {
            "image/png": "[encoded data removed]",
            "text/plain": [
              "<Figure size 504x396 with 2 Axes>"
            ]
          },
          "metadata": {
            "tags": []
          }
        }
      ]
    },
    {
      "cell_type": "markdown",
      "metadata": {
        "id": "ptFoI71Kk5BO",
        "colab_type": "text"
      },
      "source": [
        "The correlation matrix shows that the RAM capacity of a phone has a high correlation with the price range its cost falls in. \n",
        "Pixel sizes have higher correlation with price ranges than the other features "
      ]
    },
    {
      "cell_type": "markdown",
      "metadata": {
        "id": "A-M_YPJSBGh2",
        "colab_type": "text"
      },
      "source": [
        "##Preprocessing & Feature engineering \n",
        "\n",
        "All the features are split between dependant and independant variables. X will contain all the features from columns 0 to 19 and Y will contain the target or class \"price range\" which is in column 20.\n"
      ]
    },
    {
      "cell_type": "code",
      "metadata": {
        "id": "0HrVdIEsRkut",
        "colab_type": "code",
        "colab": {}
      },
      "source": [
        "#Changing pandas dataframe to numpy array\n",
        "X = dataset.iloc[:,:20].values\n",
        "y = dataset.iloc[:,20:21].values"
      ],
      "execution_count": 0,
      "outputs": []
    },
    {
      "cell_type": "markdown",
      "metadata": {
        "id": "JgtNJQSnAz4B",
        "colab_type": "text"
      },
      "source": [
        "###Normalization of dataset\n",
        "\n",
        "The next step is used to normalize the data. Normalization is a technique used to change the values of an array to a common scale, without distorting differences in the ranges of values. \n",
        "As displayed, the dataset features vary a lot. For instance, the value of battery power (column 0) is in the 1000's and clock speed (column 2) is less than 3.\n",
        "Hence normalization is required prior to passing the data to neural network so that gradient descents can converge more quickly. \n",
        "If we feed unnormalized data to the neural network, the gradients will change differently for every column and thus the learning will oscillate and this would affect the model learning."
      ]
    },
    {
      "cell_type": "code",
      "metadata": {
        "id": "Urn9RfgmRwVn",
        "colab_type": "code",
        "outputId": "dd226c57-3fcc-4f37-9a1c-6889f82d8fdd",
        "colab": {
          "base_uri": "https://localhost:8080/",
          "height": 204
        }
      },
      "source": [
        "#Displaying the un-normalized data\n",
        "print('Un-normalized data:')\n",
        "print(X[0])\n",
        "print('\\n')\n",
        "\n",
        "#Normalizing the data\n",
        "from sklearn.preprocessing import StandardScaler\n",
        "sc = StandardScaler()\n",
        "X = sc.fit_transform(X)\n",
        "print('Normalized data:')\n",
        "print(X[0])"
      ],
      "execution_count": 0,
      "outputs": [
        {
          "output_type": "stream",
          "text": [
            "Un-normalized data:\n",
            "[8.420e+02 0.000e+00 2.200e+00 0.000e+00 1.000e+00 0.000e+00 7.000e+00\n",
            " 6.000e-01 1.880e+02 2.000e+00 2.000e+00 2.000e+01 7.560e+02 2.549e+03\n",
            " 9.000e+00 7.000e+00 1.900e+01 0.000e+00 0.000e+00 1.000e+00]\n",
            "\n",
            "\n",
            "Normalized data:\n",
            "[-0.90259726 -0.9900495   0.83077942 -1.01918398 -0.76249466 -1.04396559\n",
            " -1.38064353  0.34073951  1.34924881 -1.10197128 -1.3057501  -1.40894856\n",
            " -1.14678403  0.39170341 -0.78498329  0.2831028   1.46249332 -1.78686097\n",
            " -1.00601811  0.98609664]\n"
          ],
          "name": "stdout"
        }
      ]
    },
    {
      "cell_type": "markdown",
      "metadata": {
        "id": "TkYJFDukBP8k",
        "colab_type": "text"
      },
      "source": [
        "###One hot encoding of the Mobile price range feature\n",
        "\n",
        "Next step is to one hot encode the classes. One hot encoding is a process to convert integer classes into binary values. Binarization of the class feature makes prediction better. \n",
        "This dataset has 4 classes or 4 price ranges labelled as 0, 1, 2 and 3. With oneHotEncoder function, these get binarized as displayed below."
      ]
    },
    {
      "cell_type": "code",
      "metadata": {
        "id": "zX0XAnHcRyev",
        "colab_type": "code",
        "outputId": "593add2a-d2ff-41d1-d59d-f0e062c3341d",
        "colab": {
          "base_uri": "https://localhost:8080/",
          "height": 247
        }
      },
      "source": [
        "from sklearn.preprocessing import OneHotEncoder\n",
        "ohe = OneHotEncoder()\n",
        "y = ohe.fit_transform(y).toarray()\n",
        "print('One hot encoded array:')\n",
        "print(y[0:5])"
      ],
      "execution_count": 0,
      "outputs": [
        {
          "output_type": "stream",
          "text": [
            "One hot encoded array:\n",
            "[[0. 1. 0. 0.]\n",
            " [0. 0. 1. 0.]\n",
            " [0. 0. 1. 0.]\n",
            " [0. 0. 1. 0.]\n",
            " [0. 1. 0. 0.]]\n"
          ],
          "name": "stdout"
        },
        {
          "output_type": "stream",
          "text": [
            "/usr/local/lib/python3.6/dist-packages/sklearn/preprocessing/_encoders.py:415: FutureWarning: The handling of integer data will change in version 0.22. Currently, the categories are determined based on the range [0, max(values)], while in the future they will be determined based on the unique values.\n",
            "If you want the future behaviour and silence this warning, you can specify \"categories='auto'\".\n",
            "In case you used a LabelEncoder before this OneHotEncoder to convert the categories to integers, then you can now use the OneHotEncoder directly.\n",
            "  warnings.warn(msg, FutureWarning)\n"
          ],
          "name": "stderr"
        }
      ]
    },
    {
      "cell_type": "markdown",
      "metadata": {
        "id": "jzlPAdOwGMWv",
        "colab_type": "text"
      },
      "source": [
        "### Splitting data into Train & Test\n",
        "\n",
        "Now the data is split into training and testing data. Training data is the data on which we will train our neural network. Test data is used to check our trained neural network. \n",
        "This data is totally new for our neural network and if the neural network performs well on this dataset, it shows that there is no overfitting."
      ]
    },
    {
      "cell_type": "code",
      "metadata": {
        "id": "YpEdPy28R4Td",
        "colab_type": "code",
        "colab": {}
      },
      "source": [
        "from sklearn.model_selection import train_test_split\n",
        "X_train,X_test,y_train,y_test = train_test_split(X,y,test_size = 0.1)"
      ],
      "execution_count": 0,
      "outputs": []
    },
    {
      "cell_type": "markdown",
      "metadata": {
        "id": "WnxJWIXQGUDP",
        "colab_type": "text"
      },
      "source": [
        "\n",
        "This will split our dataset into training and testing. Training data (X_train,y_train) will have 90% samples and test data (X_test, y_test) will have 10% samples. This is specified by the test_size argument.\n",
        "Now our dataset is processed and ready to feed in the neural network."
      ]
    },
    {
      "cell_type": "markdown",
      "metadata": {
        "id": "1skWSl2J0RHd",
        "colab_type": "text"
      },
      "source": [
        "# ##Machine Learning Model \n",
        "\n",
        "### Building an ANN \n",
        "Aritificial Neural Network will be used to build the model.\n",
        "\n",
        "Keras is a simple tool for constructing a neural network. It is a high-level framework based on tensorflow, theano or cntk backends.\n",
        "In the mobile dataset, the input is of 20 values and output is of 4 values. \n",
        "So the input and output layer is of 20 and 4 dimensions respectively."
      ]
    },
    {
      "cell_type": "code",
      "metadata": {
        "id": "ODJWZT83SF7S",
        "colab_type": "code",
        "colab": {}
      },
      "source": [
        "#Dependencies\n",
        "import keras\n",
        "from keras.models import Sequential\n",
        "from keras.layers import Dense\n",
        "\n",
        "# Neural network\n",
        "model = Sequential()\n",
        "model.add(Dense(16, input_dim=20, activation='relu'))\n",
        "model.add(Dense(12, activation='relu'))\n",
        "model.add(Dense(4, activation='softmax'))"
      ],
      "execution_count": 0,
      "outputs": []
    },
    {
      "cell_type": "markdown",
      "metadata": {
        "id": "W3nfdZKmGpmA",
        "colab_type": "text"
      },
      "source": [
        "We have defined the neural network with two hidden layers of 16 and 12 dimensions.\n",
        "The model created is sequential and fully connected. Hence the output of each layer is input to the next layer.\n",
        "The activation function used for the hidden layers is relu (Rectified Linear Unit Activation Function). \n",
        "Softmax is used as the activation function in the output layer as the model requires multiclass classification i.e, 4 classes of price_ranges that the prediction can fall in.\n"
      ]
    },
    {
      "cell_type": "markdown",
      "metadata": {
        "id": "EG9pnmHH2iEt",
        "colab_type": "text"
      },
      "source": [
        "###Loss & Optimizer\n",
        "\n",
        "The loss function and the optimizer will be defined using compile function in keras."
      ]
    },
    {
      "cell_type": "code",
      "metadata": {
        "id": "HawNKYAaSX9u",
        "colab_type": "code",
        "colab": {}
      },
      "source": [
        "model.compile(loss='categorical_crossentropy', optimizer='adam', metrics=['accuracy'])"
      ],
      "execution_count": 0,
      "outputs": []
    },
    {
      "cell_type": "markdown",
      "metadata": {
        "id": "cUgSzERSG4Fy",
        "colab_type": "text"
      },
      "source": [
        "Here loss is cross entropy loss . Categorical_crossentropy specifies that we have multiple classes. \n",
        "The optimization algorithm used is Adam. \n",
        "Metrics is used to specify the way we want to judge the performance of our neural network. Here we have specified it to accuracy.\n",
        "\n",
        "Now we are done with building a neural network and we will train it."
      ]
    },
    {
      "cell_type": "markdown",
      "metadata": {
        "id": "wMkCpnNHomOc",
        "colab_type": "text"
      },
      "source": [
        "*[italicized text](https://)*###Fitting the model\n",
        "\n"
      ]
    },
    {
      "cell_type": "code",
      "metadata": {
        "id": "U4xVRYavieAt",
        "colab_type": "code",
        "outputId": "e04e319b-f83c-4dc7-aff1-e5900c0f066c",
        "colab": {
          "base_uri": "https://localhost:8080/",
          "height": 1000
        }
      },
      "source": [
        "history = model.fit(X_train, y_train, epochs=100, batch_size=64)\n"
      ],
      "execution_count": 0,
      "outputs": [
        {
          "output_type": "stream",
          "text": [
            "W0703 18:51:42.805076 140516684703616 deprecation.py:323] From /usr/local/lib/python3.6/dist-packages/tensorflow/python/ops/math_grad.py:1250: add_dispatch_support.<locals>.wrapper (from tensorflow.python.ops.array_ops) is deprecated and will be removed in a future version.\n",
            "Instructions for updating:\n",
            "Use tf.where in 2.0, which has the same broadcast rule as np.where\n"
          ],
          "name": "stderr"
        },
        {
          "output_type": "stream",
          "text": [
            "Epoch 1/100\n",
            "1800/1800 [==============================] - 1s 296us/step - loss: 1.5955 - acc: 0.1978\n",
            "Epoch 2/100\n",
            "1800/1800 [==============================] - 0s 23us/step - loss: 1.4822 - acc: 0.2233\n",
            "Epoch 3/100\n",
            "1800/1800 [==============================] - 0s 22us/step - loss: 1.4258 - acc: 0.2494\n",
            "Epoch 4/100\n",
            "1800/1800 [==============================] - 0s 22us/step - loss: 1.3897 - acc: 0.2728\n",
            "Epoch 5/100\n",
            "1800/1800 [==============================] - 0s 22us/step - loss: 1.3599 - acc: 0.3144\n",
            "Epoch 6/100\n",
            "1800/1800 [==============================] - 0s 24us/step - loss: 1.3284 - acc: 0.3589\n",
            "Epoch 7/100\n",
            "1800/1800 [==============================] - 0s 24us/step - loss: 1.2911 - acc: 0.4039\n",
            "Epoch 8/100\n",
            "1800/1800 [==============================] - 0s 26us/step - loss: 1.2425 - acc: 0.4494\n",
            "Epoch 9/100\n",
            "1800/1800 [==============================] - 0s 23us/step - loss: 1.1839 - acc: 0.4928\n",
            "Epoch 10/100\n",
            "1800/1800 [==============================] - 0s 23us/step - loss: 1.1137 - acc: 0.5311\n",
            "Epoch 11/100\n",
            "1800/1800 [==============================] - 0s 23us/step - loss: 1.0382 - acc: 0.5600\n",
            "Epoch 12/100\n",
            "1800/1800 [==============================] - 0s 24us/step - loss: 0.9636 - acc: 0.5967\n",
            "Epoch 13/100\n",
            "1800/1800 [==============================] - 0s 23us/step - loss: 0.8929 - acc: 0.6183\n",
            "Epoch 14/100\n",
            "1800/1800 [==============================] - 0s 22us/step - loss: 0.8301 - acc: 0.6544\n",
            "Epoch 15/100\n",
            "1800/1800 [==============================] - 0s 22us/step - loss: 0.7729 - acc: 0.6956\n",
            "Epoch 16/100\n",
            "1800/1800 [==============================] - 0s 24us/step - loss: 0.7202 - acc: 0.7250\n",
            "Epoch 17/100\n",
            "1800/1800 [==============================] - 0s 24us/step - loss: 0.6704 - acc: 0.7617\n",
            "Epoch 18/100\n",
            "1800/1800 [==============================] - 0s 26us/step - loss: 0.6239 - acc: 0.7922\n",
            "Epoch 19/100\n",
            "1800/1800 [==============================] - 0s 25us/step - loss: 0.5807 - acc: 0.8122\n",
            "Epoch 20/100\n",
            "1800/1800 [==============================] - 0s 23us/step - loss: 0.5407 - acc: 0.8328\n",
            "Epoch 21/100\n",
            "1800/1800 [==============================] - 0s 22us/step - loss: 0.5031 - acc: 0.8433\n",
            "Epoch 22/100\n",
            "1800/1800 [==============================] - 0s 21us/step - loss: 0.4694 - acc: 0.8650\n",
            "Epoch 23/100\n",
            "1800/1800 [==============================] - 0s 22us/step - loss: 0.4382 - acc: 0.8706\n",
            "Epoch 24/100\n",
            "1800/1800 [==============================] - 0s 22us/step - loss: 0.4108 - acc: 0.8806\n",
            "Epoch 25/100\n",
            "1800/1800 [==============================] - 0s 22us/step - loss: 0.3862 - acc: 0.8833\n",
            "Epoch 26/100\n",
            "1800/1800 [==============================] - 0s 22us/step - loss: 0.3634 - acc: 0.8967\n",
            "Epoch 27/100\n",
            "1800/1800 [==============================] - 0s 24us/step - loss: 0.3429 - acc: 0.8994\n",
            "Epoch 28/100\n",
            "1800/1800 [==============================] - 0s 22us/step - loss: 0.3261 - acc: 0.9083\n",
            "Epoch 29/100\n",
            "1800/1800 [==============================] - 0s 22us/step - loss: 0.3097 - acc: 0.9100\n",
            "Epoch 30/100\n",
            "1800/1800 [==============================] - 0s 23us/step - loss: 0.2944 - acc: 0.9178\n",
            "Epoch 31/100\n",
            "1800/1800 [==============================] - 0s 22us/step - loss: 0.2815 - acc: 0.9206\n",
            "Epoch 32/100\n",
            "1800/1800 [==============================] - 0s 27us/step - loss: 0.2680 - acc: 0.9228\n",
            "Epoch 33/100\n",
            "1800/1800 [==============================] - 0s 31us/step - loss: 0.2579 - acc: 0.9261\n",
            "Epoch 34/100\n",
            "1800/1800 [==============================] - 0s 21us/step - loss: 0.2468 - acc: 0.9267\n",
            "Epoch 35/100\n",
            "1800/1800 [==============================] - 0s 22us/step - loss: 0.2376 - acc: 0.9311\n",
            "Epoch 36/100\n",
            "1800/1800 [==============================] - 0s 23us/step - loss: 0.2298 - acc: 0.9356\n",
            "Epoch 37/100\n",
            "1800/1800 [==============================] - 0s 22us/step - loss: 0.2203 - acc: 0.9367\n",
            "Epoch 38/100\n",
            "1800/1800 [==============================] - 0s 22us/step - loss: 0.2133 - acc: 0.9361\n",
            "Epoch 39/100\n",
            "1800/1800 [==============================] - 0s 28us/step - loss: 0.2067 - acc: 0.9372\n",
            "Epoch 40/100\n",
            "1800/1800 [==============================] - 0s 23us/step - loss: 0.2007 - acc: 0.9433\n",
            "Epoch 41/100\n",
            "1800/1800 [==============================] - 0s 24us/step - loss: 0.1944 - acc: 0.9433\n",
            "Epoch 42/100\n",
            "1800/1800 [==============================] - 0s 22us/step - loss: 0.1897 - acc: 0.9422\n",
            "Epoch 43/100\n",
            "1800/1800 [==============================] - 0s 25us/step - loss: 0.1848 - acc: 0.9456\n",
            "Epoch 44/100\n",
            "1800/1800 [==============================] - 0s 22us/step - loss: 0.1790 - acc: 0.9472\n",
            "Epoch 45/100\n",
            "1800/1800 [==============================] - 0s 23us/step - loss: 0.1739 - acc: 0.9483\n",
            "Epoch 46/100\n",
            "1800/1800 [==============================] - 0s 22us/step - loss: 0.1725 - acc: 0.9489\n",
            "Epoch 47/100\n",
            "1800/1800 [==============================] - 0s 22us/step - loss: 0.1660 - acc: 0.9494\n",
            "Epoch 48/100\n",
            "1800/1800 [==============================] - 0s 23us/step - loss: 0.1620 - acc: 0.9528\n",
            "Epoch 49/100\n",
            "1800/1800 [==============================] - 0s 23us/step - loss: 0.1587 - acc: 0.9533\n",
            "Epoch 50/100\n",
            "1800/1800 [==============================] - 0s 22us/step - loss: 0.1553 - acc: 0.9522\n",
            "Epoch 51/100\n",
            "1800/1800 [==============================] - 0s 26us/step - loss: 0.1522 - acc: 0.9528\n",
            "Epoch 52/100\n",
            "1800/1800 [==============================] - 0s 23us/step - loss: 0.1476 - acc: 0.9572\n",
            "Epoch 53/100\n",
            "1800/1800 [==============================] - 0s 21us/step - loss: 0.1441 - acc: 0.9567\n",
            "Epoch 54/100\n",
            "1800/1800 [==============================] - 0s 22us/step - loss: 0.1411 - acc: 0.9606\n",
            "Epoch 55/100\n",
            "1800/1800 [==============================] - 0s 23us/step - loss: 0.1398 - acc: 0.9578\n",
            "Epoch 56/100\n",
            "1800/1800 [==============================] - 0s 23us/step - loss: 0.1356 - acc: 0.9617\n",
            "Epoch 57/100\n",
            "1800/1800 [==============================] - 0s 23us/step - loss: 0.1326 - acc: 0.9606\n",
            "Epoch 58/100\n",
            "1800/1800 [==============================] - 0s 23us/step - loss: 0.1313 - acc: 0.9589\n",
            "Epoch 59/100\n",
            "1800/1800 [==============================] - 0s 24us/step - loss: 0.1277 - acc: 0.9611\n",
            "Epoch 60/100\n",
            "1800/1800 [==============================] - 0s 24us/step - loss: 0.1256 - acc: 0.9611\n",
            "Epoch 61/100\n",
            "1800/1800 [==============================] - 0s 25us/step - loss: 0.1256 - acc: 0.9622\n",
            "Epoch 62/100\n",
            "1800/1800 [==============================] - 0s 23us/step - loss: 0.1222 - acc: 0.9644\n",
            "Epoch 63/100\n",
            "1800/1800 [==============================] - 0s 22us/step - loss: 0.1186 - acc: 0.9644\n",
            "Epoch 64/100\n",
            "1800/1800 [==============================] - 0s 22us/step - loss: 0.1158 - acc: 0.9678\n",
            "Epoch 65/100\n",
            "1800/1800 [==============================] - 0s 22us/step - loss: 0.1141 - acc: 0.9672\n",
            "Epoch 66/100\n",
            "1800/1800 [==============================] - 0s 23us/step - loss: 0.1123 - acc: 0.9667\n",
            "Epoch 67/100\n",
            "1800/1800 [==============================] - 0s 21us/step - loss: 0.1095 - acc: 0.9722\n",
            "Epoch 68/100\n",
            "1800/1800 [==============================] - 0s 22us/step - loss: 0.1085 - acc: 0.9650\n",
            "Epoch 69/100\n",
            "1800/1800 [==============================] - 0s 25us/step - loss: 0.1051 - acc: 0.9750\n",
            "Epoch 70/100\n",
            "1800/1800 [==============================] - 0s 26us/step - loss: 0.1037 - acc: 0.9733\n",
            "Epoch 71/100\n",
            "1800/1800 [==============================] - 0s 22us/step - loss: 0.1014 - acc: 0.9750\n",
            "Epoch 72/100\n",
            "1800/1800 [==============================] - 0s 23us/step - loss: 0.0995 - acc: 0.9750\n",
            "Epoch 73/100\n",
            "1800/1800 [==============================] - 0s 22us/step - loss: 0.0992 - acc: 0.9756\n",
            "Epoch 74/100\n",
            "1800/1800 [==============================] - 0s 23us/step - loss: 0.0966 - acc: 0.9783\n",
            "Epoch 75/100\n",
            "1800/1800 [==============================] - 0s 23us/step - loss: 0.0954 - acc: 0.9767\n",
            "Epoch 76/100\n",
            "1800/1800 [==============================] - 0s 22us/step - loss: 0.0935 - acc: 0.9794\n",
            "Epoch 77/100\n",
            "1800/1800 [==============================] - 0s 23us/step - loss: 0.0926 - acc: 0.9783\n",
            "Epoch 78/100\n",
            "1800/1800 [==============================] - 0s 21us/step - loss: 0.0911 - acc: 0.9794\n",
            "Epoch 79/100\n",
            "1800/1800 [==============================] - 0s 22us/step - loss: 0.0883 - acc: 0.9800\n",
            "Epoch 80/100\n",
            "1800/1800 [==============================] - 0s 23us/step - loss: 0.0866 - acc: 0.9833\n",
            "Epoch 81/100\n",
            "1800/1800 [==============================] - 0s 24us/step - loss: 0.0861 - acc: 0.9811\n",
            "Epoch 82/100\n",
            "1800/1800 [==============================] - 0s 24us/step - loss: 0.0855 - acc: 0.9811\n",
            "Epoch 83/100\n",
            "1800/1800 [==============================] - 0s 21us/step - loss: 0.0827 - acc: 0.9822\n",
            "Epoch 84/100\n",
            "1800/1800 [==============================] - 0s 22us/step - loss: 0.0821 - acc: 0.9839\n",
            "Epoch 85/100\n",
            "1800/1800 [==============================] - 0s 23us/step - loss: 0.0800 - acc: 0.9850\n",
            "Epoch 86/100\n",
            "1800/1800 [==============================] - 0s 23us/step - loss: 0.0788 - acc: 0.9839\n",
            "Epoch 87/100\n",
            "1800/1800 [==============================] - 0s 22us/step - loss: 0.0780 - acc: 0.9883\n",
            "Epoch 88/100\n",
            "1800/1800 [==============================] - 0s 23us/step - loss: 0.0763 - acc: 0.9867\n",
            "Epoch 89/100\n",
            "1800/1800 [==============================] - 0s 23us/step - loss: 0.0752 - acc: 0.9872\n",
            "Epoch 90/100\n",
            "1800/1800 [==============================] - 0s 23us/step - loss: 0.0740 - acc: 0.9850\n",
            "Epoch 91/100\n",
            "1800/1800 [==============================] - 0s 22us/step - loss: 0.0730 - acc: 0.9861\n",
            "Epoch 92/100\n",
            "1800/1800 [==============================] - 0s 22us/step - loss: 0.0715 - acc: 0.9878\n",
            "Epoch 93/100\n",
            "1800/1800 [==============================] - 0s 24us/step - loss: 0.0703 - acc: 0.9872\n",
            "Epoch 94/100\n",
            "1800/1800 [==============================] - 0s 23us/step - loss: 0.0691 - acc: 0.9883\n",
            "Epoch 95/100\n",
            "1800/1800 [==============================] - 0s 22us/step - loss: 0.0686 - acc: 0.9856\n",
            "Epoch 96/100\n",
            "1800/1800 [==============================] - 0s 22us/step - loss: 0.0669 - acc: 0.9900\n",
            "Epoch 97/100\n",
            "1800/1800 [==============================] - 0s 21us/step - loss: 0.0658 - acc: 0.9894\n",
            "Epoch 98/100\n",
            "1800/1800 [==============================] - 0s 22us/step - loss: 0.0654 - acc: 0.9894\n",
            "Epoch 99/100\n",
            "1800/1800 [==============================] - 0s 24us/step - loss: 0.0636 - acc: 0.9928\n",
            "Epoch 100/100\n",
            "1800/1800 [==============================] - 0s 22us/step - loss: 0.0638 - acc: 0.9922\n"
          ],
          "name": "stdout"
        }
      ]
    },
    {
      "cell_type": "markdown",
      "metadata": {
        "id": "2y8uokX-G_qy",
        "colab_type": "text"
      },
      "source": [
        "Here we need to specify the input data-> X_train, labels-> y_train, number of epochs(iterations), and batch size. It returns the history of model training. History consists of model accuracy and losses after each epoch. We will visualize it later.\n",
        "\n",
        "Usually, the dataset is very big and we cannot fit complete data at once so we use batch size. This divides our data into batches each of size equal to batch_size. Now only this number of samples will be loaded into memory and processed. Once we are done with one batch it is flushed from memory and the next batch will be processed.\n",
        "\n",
        "##Test model\n",
        "\n",
        "Now we can check the model's performance on test data:"
      ]
    },
    {
      "cell_type": "code",
      "metadata": {
        "id": "VsSZRiWmirKn",
        "colab_type": "code",
        "colab": {}
      },
      "source": [
        "y_pred = model.predict(X_test)\n",
        "#Converting predictions to label\n",
        "pred = list()\n",
        "for i in range(len(y_pred)):\n",
        "    pred.append(np.argmax(y_pred[i]))\n",
        "#Converting one hot encoded test label to label\n",
        "test = list()\n",
        "for i in range(len(y_test)):\n",
        "    test.append(np.argmax(y_test[i]))"
      ],
      "execution_count": 0,
      "outputs": []
    },
    {
      "cell_type": "markdown",
      "metadata": {
        "id": "s7WXQ8OAHJmv",
        "colab_type": "text"
      },
      "source": [
        "This step is inverse one hot encoding process. We will get integer labels using this step. We can predict on test data using a simple method of keras, model.predict(). \n",
        "It will take the test data as input and will return the prediction outputs as softmax."
      ]
    },
    {
      "cell_type": "code",
      "metadata": {
        "id": "AtvO6Cc7jKXR",
        "colab_type": "code",
        "outputId": "e9a68374-cf99-4b76-e082-031c0c284a0f",
        "colab": {
          "base_uri": "https://localhost:8080/",
          "height": 34
        }
      },
      "source": [
        "from sklearn.metrics import accuracy_score\n",
        "a = accuracy_score(pred,test)\n",
        "print('Accuracy is:', a*100)"
      ],
      "execution_count": 0,
      "outputs": [
        {
          "output_type": "stream",
          "text": [
            "Accuracy is: 96.0\n"
          ],
          "name": "stdout"
        }
      ]
    },
    {
      "cell_type": "markdown",
      "metadata": {
        "id": "hrDRX8mmHOnG",
        "colab_type": "text"
      },
      "source": [
        "###Validation data\n",
        "\n",
        "We can use test data as validation data and can check the accuracies after every epoch. This will give us an insight into overfitting at the time of training only and we can take steps before the completion of all epochs. We can do this by changing fit function as:"
      ]
    },
    {
      "cell_type": "code",
      "metadata": {
        "id": "wuKTHyhXjWhi",
        "colab_type": "code",
        "colab": {}
      },
      "source": [
        "#Dependencies\n",
        "import keras\n",
        "from keras.models import Sequential\n",
        "from keras.layers import Dense\n",
        "#Re initialized to delete trained weights\n",
        "# Neural network\n",
        "model = Sequential()\n",
        "model.add(Dense(16, input_dim=20, activation='relu'))\n",
        "model.add(Dense(12, activation='relu'))\n",
        "model.add(Dense(4, activation='softmax'))\n",
        "\n",
        "model.compile(loss='categorical_crossentropy', optimizer='adam', metrics=['accuracy'])"
      ],
      "execution_count": 0,
      "outputs": []
    },
    {
      "cell_type": "code",
      "metadata": {
        "id": "hD1pE8ihjasS",
        "colab_type": "code",
        "outputId": "d9d63be0-cedd-40d8-a04c-8e897ccf70c1",
        "colab": {
          "base_uri": "https://localhost:8080/",
          "height": 1000
        }
      },
      "source": [
        "history = model.fit(X_train, y_train,validation_data = (X_test,y_test), epochs=100, batch_size=64)"
      ],
      "execution_count": 0,
      "outputs": [
        {
          "output_type": "stream",
          "text": [
            "Train on 1800 samples, validate on 200 samples\n",
            "Epoch 1/100\n",
            "1800/1800 [==============================] - 0s 220us/step - loss: 1.7141 - acc: 0.2200 - val_loss: 1.5306 - val_acc: 0.2650\n",
            "Epoch 2/100\n",
            "1800/1800 [==============================] - 0s 24us/step - loss: 1.5199 - acc: 0.2256 - val_loss: 1.4206 - val_acc: 0.2900\n",
            "Epoch 3/100\n",
            "1800/1800 [==============================] - 0s 25us/step - loss: 1.4292 - acc: 0.2517 - val_loss: 1.3598 - val_acc: 0.3350\n",
            "Epoch 4/100\n",
            "1800/1800 [==============================] - 0s 24us/step - loss: 1.3667 - acc: 0.2956 - val_loss: 1.3051 - val_acc: 0.4200\n",
            "Epoch 5/100\n",
            "1800/1800 [==============================] - 0s 25us/step - loss: 1.3022 - acc: 0.3617 - val_loss: 1.2339 - val_acc: 0.4850\n",
            "Epoch 6/100\n",
            "1800/1800 [==============================] - 0s 24us/step - loss: 1.2201 - acc: 0.4356 - val_loss: 1.1516 - val_acc: 0.5200\n",
            "Epoch 7/100\n",
            "1800/1800 [==============================] - 0s 27us/step - loss: 1.1238 - acc: 0.5044 - val_loss: 1.0576 - val_acc: 0.5750\n",
            "Epoch 8/100\n",
            "1800/1800 [==============================] - 0s 25us/step - loss: 1.0221 - acc: 0.5622 - val_loss: 0.9622 - val_acc: 0.6100\n",
            "Epoch 9/100\n",
            "1800/1800 [==============================] - 0s 24us/step - loss: 0.9227 - acc: 0.6044 - val_loss: 0.8703 - val_acc: 0.6250\n",
            "Epoch 10/100\n",
            "1800/1800 [==============================] - 0s 26us/step - loss: 0.8303 - acc: 0.6533 - val_loss: 0.7844 - val_acc: 0.6550\n",
            "Epoch 11/100\n",
            "1800/1800 [==============================] - 0s 25us/step - loss: 0.7497 - acc: 0.6950 - val_loss: 0.7114 - val_acc: 0.6850\n",
            "Epoch 12/100\n",
            "1800/1800 [==============================] - 0s 29us/step - loss: 0.6822 - acc: 0.7317 - val_loss: 0.6516 - val_acc: 0.7200\n",
            "Epoch 13/100\n",
            "1800/1800 [==============================] - 0s 23us/step - loss: 0.6254 - acc: 0.7650 - val_loss: 0.6002 - val_acc: 0.7500\n",
            "Epoch 14/100\n",
            "1800/1800 [==============================] - 0s 24us/step - loss: 0.5747 - acc: 0.7972 - val_loss: 0.5531 - val_acc: 0.8050\n",
            "Epoch 15/100\n",
            "1800/1800 [==============================] - 0s 24us/step - loss: 0.5314 - acc: 0.8239 - val_loss: 0.5143 - val_acc: 0.8250\n",
            "Epoch 16/100\n",
            "1800/1800 [==============================] - 0s 24us/step - loss: 0.4936 - acc: 0.8344 - val_loss: 0.4815 - val_acc: 0.8350\n",
            "Epoch 17/100\n",
            "1800/1800 [==============================] - 0s 24us/step - loss: 0.4594 - acc: 0.8517 - val_loss: 0.4501 - val_acc: 0.8500\n",
            "Epoch 18/100\n",
            "1800/1800 [==============================] - 0s 24us/step - loss: 0.4295 - acc: 0.8617 - val_loss: 0.4220 - val_acc: 0.8550\n",
            "Epoch 19/100\n",
            "1800/1800 [==============================] - 0s 24us/step - loss: 0.4019 - acc: 0.8733 - val_loss: 0.4013 - val_acc: 0.8800\n",
            "Epoch 20/100\n",
            "1800/1800 [==============================] - 0s 26us/step - loss: 0.3772 - acc: 0.8833 - val_loss: 0.3804 - val_acc: 0.8700\n",
            "Epoch 21/100\n",
            "1800/1800 [==============================] - 0s 28us/step - loss: 0.3554 - acc: 0.8917 - val_loss: 0.3620 - val_acc: 0.8700\n",
            "Epoch 22/100\n",
            "1800/1800 [==============================] - 0s 30us/step - loss: 0.3363 - acc: 0.8944 - val_loss: 0.3432 - val_acc: 0.8800\n",
            "Epoch 23/100\n",
            "1800/1800 [==============================] - 0s 24us/step - loss: 0.3166 - acc: 0.9033 - val_loss: 0.3266 - val_acc: 0.8800\n",
            "Epoch 24/100\n",
            "1800/1800 [==============================] - 0s 27us/step - loss: 0.2992 - acc: 0.9094 - val_loss: 0.3126 - val_acc: 0.8900\n",
            "Epoch 25/100\n",
            "1800/1800 [==============================] - 0s 23us/step - loss: 0.2845 - acc: 0.9194 - val_loss: 0.2970 - val_acc: 0.9050\n",
            "Epoch 26/100\n",
            "1800/1800 [==============================] - 0s 26us/step - loss: 0.2712 - acc: 0.9161 - val_loss: 0.2855 - val_acc: 0.9100\n",
            "Epoch 27/100\n",
            "1800/1800 [==============================] - 0s 26us/step - loss: 0.2588 - acc: 0.9228 - val_loss: 0.2723 - val_acc: 0.9050\n",
            "Epoch 28/100\n",
            "1800/1800 [==============================] - 0s 31us/step - loss: 0.2471 - acc: 0.9289 - val_loss: 0.2640 - val_acc: 0.9100\n",
            "Epoch 29/100\n",
            "1800/1800 [==============================] - 0s 27us/step - loss: 0.2371 - acc: 0.9278 - val_loss: 0.2550 - val_acc: 0.9150\n",
            "Epoch 30/100\n",
            "1800/1800 [==============================] - 0s 25us/step - loss: 0.2286 - acc: 0.9322 - val_loss: 0.2471 - val_acc: 0.9150\n",
            "Epoch 31/100\n",
            "1800/1800 [==============================] - 0s 24us/step - loss: 0.2187 - acc: 0.9328 - val_loss: 0.2361 - val_acc: 0.9300\n",
            "Epoch 32/100\n",
            "1800/1800 [==============================] - 0s 24us/step - loss: 0.2115 - acc: 0.9350 - val_loss: 0.2285 - val_acc: 0.9200\n",
            "Epoch 33/100\n",
            "1800/1800 [==============================] - 0s 25us/step - loss: 0.2039 - acc: 0.9367 - val_loss: 0.2271 - val_acc: 0.9200\n",
            "Epoch 34/100\n",
            "1800/1800 [==============================] - 0s 26us/step - loss: 0.1959 - acc: 0.9400 - val_loss: 0.2211 - val_acc: 0.9250\n",
            "Epoch 35/100\n",
            "1800/1800 [==============================] - 0s 27us/step - loss: 0.1895 - acc: 0.9461 - val_loss: 0.2095 - val_acc: 0.9300\n",
            "Epoch 36/100\n",
            "1800/1800 [==============================] - 0s 24us/step - loss: 0.1843 - acc: 0.9444 - val_loss: 0.2080 - val_acc: 0.9350\n",
            "Epoch 37/100\n",
            "1800/1800 [==============================] - 0s 25us/step - loss: 0.1791 - acc: 0.9506 - val_loss: 0.1990 - val_acc: 0.9300\n",
            "Epoch 38/100\n",
            "1800/1800 [==============================] - 0s 25us/step - loss: 0.1717 - acc: 0.9528 - val_loss: 0.1939 - val_acc: 0.9300\n",
            "Epoch 39/100\n",
            "1800/1800 [==============================] - 0s 29us/step - loss: 0.1668 - acc: 0.9500 - val_loss: 0.1902 - val_acc: 0.9350\n",
            "Epoch 40/100\n",
            "1800/1800 [==============================] - 0s 28us/step - loss: 0.1615 - acc: 0.9539 - val_loss: 0.1877 - val_acc: 0.9300\n",
            "Epoch 41/100\n",
            "1800/1800 [==============================] - 0s 28us/step - loss: 0.1571 - acc: 0.9550 - val_loss: 0.1834 - val_acc: 0.9400\n",
            "Epoch 42/100\n",
            "1800/1800 [==============================] - 0s 28us/step - loss: 0.1522 - acc: 0.9556 - val_loss: 0.1783 - val_acc: 0.9400\n",
            "Epoch 43/100\n",
            "1800/1800 [==============================] - 0s 26us/step - loss: 0.1483 - acc: 0.9578 - val_loss: 0.1760 - val_acc: 0.9450\n",
            "Epoch 44/100\n",
            "1800/1800 [==============================] - 0s 25us/step - loss: 0.1438 - acc: 0.9644 - val_loss: 0.1746 - val_acc: 0.9450\n",
            "Epoch 45/100\n",
            "1800/1800 [==============================] - 0s 25us/step - loss: 0.1409 - acc: 0.9628 - val_loss: 0.1724 - val_acc: 0.9450\n",
            "Epoch 46/100\n",
            "1800/1800 [==============================] - 0s 25us/step - loss: 0.1387 - acc: 0.9611 - val_loss: 0.1656 - val_acc: 0.9450\n",
            "Epoch 47/100\n",
            "1800/1800 [==============================] - 0s 37us/step - loss: 0.1341 - acc: 0.9628 - val_loss: 0.1643 - val_acc: 0.9450\n",
            "Epoch 48/100\n",
            "1800/1800 [==============================] - 0s 23us/step - loss: 0.1324 - acc: 0.9639 - val_loss: 0.1593 - val_acc: 0.9450\n",
            "Epoch 49/100\n",
            "1800/1800 [==============================] - 0s 27us/step - loss: 0.1277 - acc: 0.9644 - val_loss: 0.1621 - val_acc: 0.9450\n",
            "Epoch 50/100\n",
            "1800/1800 [==============================] - 0s 25us/step - loss: 0.1245 - acc: 0.9683 - val_loss: 0.1546 - val_acc: 0.9500\n",
            "Epoch 51/100\n",
            "1800/1800 [==============================] - 0s 24us/step - loss: 0.1234 - acc: 0.9644 - val_loss: 0.1586 - val_acc: 0.9450\n",
            "Epoch 52/100\n",
            "1800/1800 [==============================] - 0s 26us/step - loss: 0.1202 - acc: 0.9656 - val_loss: 0.1562 - val_acc: 0.9450\n",
            "Epoch 53/100\n",
            "1800/1800 [==============================] - 0s 24us/step - loss: 0.1165 - acc: 0.9689 - val_loss: 0.1545 - val_acc: 0.9450\n",
            "Epoch 54/100\n",
            "1800/1800 [==============================] - 0s 24us/step - loss: 0.1136 - acc: 0.9672 - val_loss: 0.1539 - val_acc: 0.9450\n",
            "Epoch 55/100\n",
            "1800/1800 [==============================] - 0s 23us/step - loss: 0.1120 - acc: 0.9717 - val_loss: 0.1493 - val_acc: 0.9500\n",
            "Epoch 56/100\n",
            "1800/1800 [==============================] - 0s 24us/step - loss: 0.1093 - acc: 0.9711 - val_loss: 0.1515 - val_acc: 0.9500\n",
            "Epoch 57/100\n",
            "1800/1800 [==============================] - 0s 25us/step - loss: 0.1063 - acc: 0.9711 - val_loss: 0.1481 - val_acc: 0.9500\n",
            "Epoch 58/100\n",
            "1800/1800 [==============================] - 0s 25us/step - loss: 0.1049 - acc: 0.9722 - val_loss: 0.1516 - val_acc: 0.9500\n",
            "Epoch 59/100\n",
            "1800/1800 [==============================] - 0s 24us/step - loss: 0.1018 - acc: 0.9733 - val_loss: 0.1476 - val_acc: 0.9500\n",
            "Epoch 60/100\n",
            "1800/1800 [==============================] - 0s 24us/step - loss: 0.0994 - acc: 0.9767 - val_loss: 0.1458 - val_acc: 0.9450\n",
            "Epoch 61/100\n",
            "1800/1800 [==============================] - 0s 24us/step - loss: 0.0987 - acc: 0.9744 - val_loss: 0.1449 - val_acc: 0.9500\n",
            "Epoch 62/100\n",
            "1800/1800 [==============================] - 0s 24us/step - loss: 0.0967 - acc: 0.9761 - val_loss: 0.1422 - val_acc: 0.9500\n",
            "Epoch 63/100\n",
            "1800/1800 [==============================] - 0s 23us/step - loss: 0.0944 - acc: 0.9728 - val_loss: 0.1477 - val_acc: 0.9450\n",
            "Epoch 64/100\n",
            "1800/1800 [==============================] - 0s 23us/step - loss: 0.0922 - acc: 0.9778 - val_loss: 0.1472 - val_acc: 0.9500\n",
            "Epoch 65/100\n",
            "1800/1800 [==============================] - 0s 24us/step - loss: 0.0905 - acc: 0.9789 - val_loss: 0.1439 - val_acc: 0.9450\n",
            "Epoch 66/100\n",
            "1800/1800 [==============================] - 0s 28us/step - loss: 0.0896 - acc: 0.9750 - val_loss: 0.1419 - val_acc: 0.9500\n",
            "Epoch 67/100\n",
            "1800/1800 [==============================] - 0s 25us/step - loss: 0.0883 - acc: 0.9761 - val_loss: 0.1430 - val_acc: 0.9500\n",
            "Epoch 68/100\n",
            "1800/1800 [==============================] - 0s 25us/step - loss: 0.0862 - acc: 0.9756 - val_loss: 0.1448 - val_acc: 0.9450\n",
            "Epoch 69/100\n",
            "1800/1800 [==============================] - 0s 24us/step - loss: 0.0846 - acc: 0.9767 - val_loss: 0.1412 - val_acc: 0.9450\n",
            "Epoch 70/100\n",
            "1800/1800 [==============================] - 0s 24us/step - loss: 0.0830 - acc: 0.9800 - val_loss: 0.1493 - val_acc: 0.9500\n",
            "Epoch 71/100\n",
            "1800/1800 [==============================] - 0s 22us/step - loss: 0.0804 - acc: 0.9806 - val_loss: 0.1415 - val_acc: 0.9500\n",
            "Epoch 72/100\n",
            "1800/1800 [==============================] - 0s 24us/step - loss: 0.0800 - acc: 0.9789 - val_loss: 0.1384 - val_acc: 0.9450\n",
            "Epoch 73/100\n",
            "1800/1800 [==============================] - 0s 26us/step - loss: 0.0783 - acc: 0.9822 - val_loss: 0.1425 - val_acc: 0.9500\n",
            "Epoch 74/100\n",
            "1800/1800 [==============================] - 0s 30us/step - loss: 0.0764 - acc: 0.9767 - val_loss: 0.1395 - val_acc: 0.9450\n",
            "Epoch 75/100\n",
            "1800/1800 [==============================] - 0s 27us/step - loss: 0.0768 - acc: 0.9800 - val_loss: 0.1339 - val_acc: 0.9500\n",
            "Epoch 76/100\n",
            "1800/1800 [==============================] - 0s 27us/step - loss: 0.0737 - acc: 0.9800 - val_loss: 0.1379 - val_acc: 0.9500\n",
            "Epoch 77/100\n",
            "1800/1800 [==============================] - 0s 24us/step - loss: 0.0735 - acc: 0.9806 - val_loss: 0.1283 - val_acc: 0.9450\n",
            "Epoch 78/100\n",
            "1800/1800 [==============================] - 0s 25us/step - loss: 0.0718 - acc: 0.9811 - val_loss: 0.1357 - val_acc: 0.9500\n",
            "Epoch 79/100\n",
            "1800/1800 [==============================] - 0s 25us/step - loss: 0.0693 - acc: 0.9839 - val_loss: 0.1353 - val_acc: 0.9500\n",
            "Epoch 80/100\n",
            "1800/1800 [==============================] - 0s 24us/step - loss: 0.0684 - acc: 0.9833 - val_loss: 0.1360 - val_acc: 0.9400\n",
            "Epoch 81/100\n",
            "1800/1800 [==============================] - 0s 26us/step - loss: 0.0690 - acc: 0.9861 - val_loss: 0.1387 - val_acc: 0.9500\n",
            "Epoch 82/100\n",
            "1800/1800 [==============================] - 0s 25us/step - loss: 0.0654 - acc: 0.9856 - val_loss: 0.1430 - val_acc: 0.9500\n",
            "Epoch 83/100\n",
            "1800/1800 [==============================] - 0s 24us/step - loss: 0.0668 - acc: 0.9850 - val_loss: 0.1387 - val_acc: 0.9450\n",
            "Epoch 84/100\n",
            "1800/1800 [==============================] - 0s 23us/step - loss: 0.0635 - acc: 0.9856 - val_loss: 0.1404 - val_acc: 0.9450\n",
            "Epoch 85/100\n",
            "1800/1800 [==============================] - 0s 24us/step - loss: 0.0634 - acc: 0.9822 - val_loss: 0.1432 - val_acc: 0.9500\n",
            "Epoch 86/100\n",
            "1800/1800 [==============================] - 0s 23us/step - loss: 0.0610 - acc: 0.9850 - val_loss: 0.1400 - val_acc: 0.9500\n",
            "Epoch 87/100\n",
            "1800/1800 [==============================] - 0s 24us/step - loss: 0.0608 - acc: 0.9867 - val_loss: 0.1392 - val_acc: 0.9450\n",
            "Epoch 88/100\n",
            "1800/1800 [==============================] - 0s 23us/step - loss: 0.0615 - acc: 0.9828 - val_loss: 0.1410 - val_acc: 0.9400\n",
            "Epoch 89/100\n",
            "1800/1800 [==============================] - 0s 24us/step - loss: 0.0594 - acc: 0.9861 - val_loss: 0.1382 - val_acc: 0.9400\n",
            "Epoch 90/100\n",
            "1800/1800 [==============================] - 0s 28us/step - loss: 0.0580 - acc: 0.9861 - val_loss: 0.1404 - val_acc: 0.9450\n",
            "Epoch 91/100\n",
            "1800/1800 [==============================] - 0s 25us/step - loss: 0.0568 - acc: 0.9889 - val_loss: 0.1419 - val_acc: 0.9450\n",
            "Epoch 92/100\n",
            "1800/1800 [==============================] - 0s 24us/step - loss: 0.0552 - acc: 0.9883 - val_loss: 0.1401 - val_acc: 0.9500\n",
            "Epoch 93/100\n",
            "1800/1800 [==============================] - 0s 24us/step - loss: 0.0542 - acc: 0.9889 - val_loss: 0.1406 - val_acc: 0.9500\n",
            "Epoch 94/100\n",
            "1800/1800 [==============================] - 0s 25us/step - loss: 0.0529 - acc: 0.9911 - val_loss: 0.1365 - val_acc: 0.9500\n",
            "Epoch 95/100\n",
            "1800/1800 [==============================] - 0s 25us/step - loss: 0.0526 - acc: 0.9889 - val_loss: 0.1463 - val_acc: 0.9500\n",
            "Epoch 96/100\n",
            "1800/1800 [==============================] - 0s 24us/step - loss: 0.0515 - acc: 0.9900 - val_loss: 0.1409 - val_acc: 0.9500\n",
            "Epoch 97/100\n",
            "1800/1800 [==============================] - 0s 24us/step - loss: 0.0510 - acc: 0.9917 - val_loss: 0.1385 - val_acc: 0.9450\n",
            "Epoch 98/100\n",
            "1800/1800 [==============================] - 0s 27us/step - loss: 0.0500 - acc: 0.9900 - val_loss: 0.1449 - val_acc: 0.9450\n",
            "Epoch 99/100\n",
            "1800/1800 [==============================] - 0s 24us/step - loss: 0.0491 - acc: 0.9922 - val_loss: 0.1423 - val_acc: 0.9450\n",
            "Epoch 100/100\n",
            "1800/1800 [==============================] - 0s 24us/step - loss: 0.0484 - acc: 0.9911 - val_loss: 0.1446 - val_acc: 0.9450\n"
          ],
          "name": "stdout"
        }
      ]
    },
    {
      "cell_type": "markdown",
      "metadata": {
        "id": "i9p7xvQwjjCo",
        "colab_type": "text"
      },
      "source": [
        "##Visualizations"
      ]
    },
    {
      "cell_type": "code",
      "metadata": {
        "id": "GeuAUkLujnUa",
        "colab_type": "code",
        "outputId": "6d50d37b-d38d-4181-d1ac-23d1f7f88b5d",
        "colab": {
          "base_uri": "https://localhost:8080/",
          "height": 295
        }
      },
      "source": [
        "import matplotlib.pyplot as plt\n",
        "plt.plot(history.history['acc'])\n",
        "plt.plot(history.history['val_acc'])\n",
        "plt.title('Model accuracy')\n",
        "plt.ylabel('Accuracy')\n",
        "plt.xlabel('Epoch')\n",
        "plt.legend(['Train', 'Test'], loc='upper left')\n",
        "plt.show()"
      ],
      "execution_count": 0,
      "outputs": [
        {
          "output_type": "display_data",
          "data": {
            "image/png": "[encoded data removed]",
            "text/plain": [
              "<Figure size 432x288 with 1 Axes>"
            ]
          },
          "metadata": {
            "tags": []
          }
        }
      ]
    },
    {
      "cell_type": "code",
      "metadata": {
        "id": "yezEhlO2juud",
        "colab_type": "code",
        "outputId": "6ea6a8b2-8d48-4c46-b0a7-f64be852a421",
        "colab": {
          "base_uri": "https://localhost:8080/",
          "height": 295
        }
      },
      "source": [
        "plt.plot(history.history['loss']) \n",
        "plt.plot(history.history['val_loss']) \n",
        "plt.title('Model loss') \n",
        "plt.ylabel('Loss') \n",
        "plt.xlabel('Epoch') \n",
        "plt.legend(['Train', 'Test'], loc='upper left') \n",
        "plt.show()"
      ],
      "execution_count": 0,
      "outputs": [
        {
          "output_type": "display_data",
          "data": {
            "image/png": "[encoded data removed]",
            "text/plain": [
              "<Figure size 432x288 with 1 Axes>"
            ]
          },
          "metadata": {
            "tags": []
          }
        }
      ]
    }
  ]
}